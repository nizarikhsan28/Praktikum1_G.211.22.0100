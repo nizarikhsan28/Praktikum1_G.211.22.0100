{
  "nbformat": 4,
  "nbformat_minor": 0,
  "metadata": {
    "colab": {
      "provenance": []
    },
    "kernelspec": {
      "name": "python3",
      "display_name": "Python 3"
    },
    "language_info": {
      "name": "python"
    }
  },
  "cells": [
    {
      "cell_type": "code",
      "execution_count": 3,
      "metadata": {
        "id": "IzlelDjaSufK"
      },
      "outputs": [],
      "source": [
        "friends =[\"Naufal\",\"Syahrul Adi\",\"Ano\",\"Iko\",\"Ferry\"]"
      ]
    },
    {
      "cell_type": "code",
      "source": [
        "print(friends[3])"
      ],
      "metadata": {
        "colab": {
          "base_uri": "https://localhost:8080/"
        },
        "id": "yNjGqKksTaZp",
        "outputId": "43bc12c4-ef45-4f60-bc9e-1de51cac7c8b"
      },
      "execution_count": 4,
      "outputs": [
        {
          "output_type": "stream",
          "name": "stdout",
          "text": [
            "Iko\n"
          ]
        }
      ]
    },
    {
      "cell_type": "code",
      "source": [
        "print (\"isi friends indeks ke-3 adalah {}\".format(friends[3]))"
      ],
      "metadata": {
        "colab": {
          "base_uri": "https://localhost:8080/"
        },
        "id": "n4sJQRbSVpSJ",
        "outputId": "c09075e3-02ad-4c97-8762-23cfc98e8ef2"
      },
      "execution_count": 5,
      "outputs": [
        {
          "output_type": "stream",
          "name": "stdout",
          "text": [
            "isi friends indeks ke-3 adalah Iko\n"
          ]
        }
      ]
    },
    {
      "cell_type": "code",
      "source": [
        "print(\"Semua teman: ada {} orang\".format(len(friends)))"
      ],
      "metadata": {
        "colab": {
          "base_uri": "https://localhost:8080/"
        },
        "id": "s5nNt3UbXXgQ",
        "outputId": "6df403ea-0889-4ad2-d688-16a8f78af60b"
      },
      "execution_count": 6,
      "outputs": [
        {
          "output_type": "stream",
          "name": "stdout",
          "text": [
            "Semua teman: ada 5 orang\n"
          ]
        }
      ]
    },
    {
      "cell_type": "code",
      "source": [
        "for i in friends : print (i)"
      ],
      "metadata": {
        "colab": {
          "base_uri": "https://localhost:8080/"
        },
        "id": "YE3zZQJWXnov",
        "outputId": "e90f36dd-16f5-42f8-9fd8-79e34811bc87"
      },
      "execution_count": 7,
      "outputs": [
        {
          "output_type": "stream",
          "name": "stdout",
          "text": [
            "Naufal\n",
            "Syahrul Adi\n",
            "Ano\n",
            "Iko\n",
            "Ferry\n"
          ]
        }
      ]
    },
    {
      "cell_type": "code",
      "source": [
        "for i in range(5):\n",
        "    print(i)"
      ],
      "metadata": {
        "colab": {
          "base_uri": "https://localhost:8080/"
        },
        "id": "bF5rrp5TbKJP",
        "outputId": "570599ed-20d8-47f8-ae1d-443f6170fa75"
      },
      "execution_count": 8,
      "outputs": [
        {
          "output_type": "stream",
          "name": "stdout",
          "text": [
            "0\n",
            "1\n",
            "2\n",
            "3\n",
            "4\n"
          ]
        }
      ]
    },
    {
      "cell_type": "code",
      "source": [
        "#Deklarasi List\n",
        "list_nilai = [1,2,3,4,5,6,7,8,9,10]\n",
        "#tampilkan list\n",
        "print(\"List Nilai : \\n\",list_nilai)\n",
        "#menggunakan len\n",
        "print(\"\\nJumlah Index list nilai (len) : \\n\", len(list_nilai))\n",
        "#menggunakan count\n",
        "print(\"\\nJumlah Nilai 5 Dalam List (count) : \\n\", list_nilai.count(5))\n",
        "#Menggunakan append\n",
        "print(\"\\nMenambah element dalam list (append) : \")\n",
        "list_nilai.append(12)\n",
        "list_nilai.append(10)\n",
        "print(\"List Nilai : \",list_nilai)\n",
        "#Menggunakan index\n",
        "print(\"\\nIndex ke 8 (index) : \\n\", list_nilai.index(8))\n",
        "#Menggunakan insert\n",
        "list_nilai.insert(1,12)\n",
        "print(\"\\nTambah Nilai List (Insert) : \\n\", list_nilai)\n",
        "#Menggunakan pop\n",
        "list_nilai.pop()\n",
        "list_nilai.pop()\n",
        "print(\"\\nList Nilai (pop) : \\n\",list_nilai)\n",
        "#Menggunakan remove\n",
        "list_nilai.remove(2)\n",
        "list_nilai.remove(1)\n",
        "print(\"\\nList Nilai (remove) : \\n\", list_nilai)"
      ],
      "metadata": {
        "colab": {
          "base_uri": "https://localhost:8080/"
        },
        "id": "RaTzqBwebs8U",
        "outputId": "79de07f4-d99d-4e74-e053-a963e0615e02"
      },
      "execution_count": 1,
      "outputs": [
        {
          "output_type": "stream",
          "name": "stdout",
          "text": [
            "List Nilai : \n",
            " [1, 2, 3, 4, 5, 6, 7, 8, 9, 10]\n",
            "\n",
            "Jumlah Index list nilai (len) : \n",
            " 10\n",
            "\n",
            "Jumlah Nilai 5 Dalam List (count) : \n",
            " 1\n",
            "\n",
            "Menambah element dalam list (append) : \n",
            "List Nilai :  [1, 2, 3, 4, 5, 6, 7, 8, 9, 10, 12, 10]\n",
            "\n",
            "Index ke 8 (index) : \n",
            " 7\n",
            "\n",
            "Tambah Nilai List (Insert) : \n",
            " [1, 12, 2, 3, 4, 5, 6, 7, 8, 9, 10, 12, 10]\n",
            "\n",
            "List Nilai (pop) : \n",
            " [1, 12, 2, 3, 4, 5, 6, 7, 8, 9, 10]\n",
            "\n",
            "List Nilai (remove) : \n",
            " [12, 3, 4, 5, 6, 7, 8, 9, 10]\n"
          ]
        }
      ]
    },
    {
      "cell_type": "code",
      "source": [
        "#Menggunakan extend\n",
        "list_nilai2 = [4,3,8,7]\n",
        "list_nilai.extend(list_nilai2)\n",
        "print(\"\\nList Nilai (extend : \\n\", list_nilai)\n",
        "#Menggunakan reverse\n",
        "list_nilai.reverse()\n",
        "print(\"\\nList Nilai (reverse) : \\n\", list_nilai)\n",
        "#Menggunakan sort\n",
        "list_nilai.sort()\n",
        "print(\"\\nList Nilai (sort) : \\n\", list_nilai)\n",
        "#Menggunakan Max\n",
        "print(\"\\nNilai Terbanyak (max) : \\n\", max(list_nilai))\n",
        "#Mengguankan min\n",
        "print(\"\\nNilai terendah (min) : \\n\", min(list_nilai))\n",
        "#Menggunakan Sum\n",
        "print(\"\\nTotal penjumlahan nilai dari list_nilai (sum) : \\n\",\n",
        "sum(list_nilai))"
      ],
      "metadata": {
        "colab": {
          "base_uri": "https://localhost:8080/"
        },
        "id": "Uy98IAkybxNw",
        "outputId": "05be2a51-fc02-46c9-b1bd-c8ebde603e3b"
      },
      "execution_count": 2,
      "outputs": [
        {
          "output_type": "stream",
          "name": "stdout",
          "text": [
            "\n",
            "List Nilai (extend : \n",
            " [12, 3, 4, 5, 6, 7, 8, 9, 10, 4, 3, 8, 7]\n",
            "\n",
            "List Nilai (reverse) : \n",
            " [7, 8, 3, 4, 10, 9, 8, 7, 6, 5, 4, 3, 12]\n",
            "\n",
            "List Nilai (sort) : \n",
            " [3, 3, 4, 4, 5, 6, 7, 7, 8, 8, 9, 10, 12]\n",
            "\n",
            "Nilai Terbanyak (max) : \n",
            " 12\n",
            "\n",
            "Nilai terendah (min) : \n",
            " 3\n",
            "\n",
            "Total penjumlahan nilai dari list_nilai (sum) : \n",
            " 86\n"
          ]
        }
      ]
    }
  ]
}